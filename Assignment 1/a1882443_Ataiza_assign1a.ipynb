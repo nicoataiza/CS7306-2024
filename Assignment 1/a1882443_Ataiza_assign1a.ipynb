{
 "cells": [
  {
   "attachments": {
    "download.jfif": {
     "image/jpeg": "[encoded data removed]"
    }
   },
   "cell_type": "markdown",
   "id": "6730fecf",
   "metadata": {},
   "source": [
    "## Assignment 1a: Machine Learning Methods\n",
    "\n",
    "### \\<Christian Ataiza> \\<a1882443>\n",
    "\n",
    "#### How can we use data analytics to predict energy usage for this house?\n",
    "\n",
    "![download.jfif](attachment:download.jfif)\n",
    "\n",
    "#### Follow detail instructions in the assignment specification and use these heading for implementation and discussion"
   ]
  },
  {
   "cell_type": "markdown",
   "id": "3df2aac6",
   "metadata": {},
   "source": [
    "# 1. Read the dataset"
   ]
  },
  {
   "cell_type": "code",
   "execution_count": 1,
   "id": "e967e07b",
   "metadata": {},
   "outputs": [],
   "source": [
    "# import necessary libraries\n",
    "import pandas as pd\n",
    "import numpy as np\n",
    "import matplotlib.pyplot as plt\n",
    "import seaborn as sns"
   ]
  },
  {
   "cell_type": "markdown",
   "id": "57adf8d5",
   "metadata": {},
   "source": [
    "## Loading in the dataset"
   ]
  },
  {
   "cell_type": "code",
   "execution_count": 2,
   "id": "e3d481e9",
   "metadata": {},
   "outputs": [],
   "source": [
    "# loading in the dataset\n",
    "# visualize the entire table including all columns\n",
    "pd.set_option('display.max_columns', None)\n",
    "df = pd.read_csv(r'energydata_complete.csv') \n",
    "df['date'] = pd.to_datetime(df.date, format = \"%d/%m/%Y %H:%M\")\n"
   ]
  },
  {
   "cell_type": "code",
   "execution_count": 3,
   "id": "34b541dc",
   "metadata": {},
   "outputs": [
    {
     "data": {
      "text/html": [
       "<div>\n",
       "<style scoped>\n",
       "    .dataframe tbody tr th:only-of-type {\n",
       "        vertical-align: middle;\n",
       "    }\n",
       "\n",
       "    .dataframe tbody tr th {\n",
       "        vertical-align: top;\n",
       "    }\n",
       "\n",
       "    .dataframe thead th {\n",
       "        text-align: right;\n",
       "    }\n",
       "</style>\n",
       "<table border=\"1\" class=\"dataframe\">\n",
       "  <thead>\n",
       "    <tr style=\"text-align: right;\">\n",
       "      <th></th>\n",
       "      <th>date</th>\n",
       "      <th>Appliances</th>\n",
       "      <th>lights</th>\n",
       "      <th>T1</th>\n",
       "      <th>RH_1</th>\n",
       "      <th>T2</th>\n",
       "      <th>RH_2</th>\n",
       "      <th>T3</th>\n",
       "      <th>RH_3</th>\n",
       "      <th>T4</th>\n",
       "      <th>RH_4</th>\n",
       "      <th>T5</th>\n",
       "      <th>RH_5</th>\n",
       "      <th>T6</th>\n",
       "      <th>RH_6</th>\n",
       "      <th>T7</th>\n",
       "      <th>RH_7</th>\n",
       "      <th>T8</th>\n",
       "      <th>RH_8</th>\n",
       "      <th>T9</th>\n",
       "      <th>RH_9</th>\n",
       "      <th>T_out</th>\n",
       "      <th>Press_mm_hg</th>\n",
       "      <th>RH_out</th>\n",
       "      <th>Windspeed</th>\n",
       "      <th>Visibility</th>\n",
       "      <th>Tdewpoint</th>\n",
       "      <th>rv1</th>\n",
       "      <th>rv2</th>\n",
       "    </tr>\n",
       "  </thead>\n",
       "  <tbody>\n",
       "    <tr>\n",
       "      <th>0</th>\n",
       "      <td>2016-01-11 17:00:00</td>\n",
       "      <td>60</td>\n",
       "      <td>30</td>\n",
       "      <td>19.89</td>\n",
       "      <td>47.596667</td>\n",
       "      <td>19.2</td>\n",
       "      <td>44.790000</td>\n",
       "      <td>19.79</td>\n",
       "      <td>44.730000</td>\n",
       "      <td>19.000000</td>\n",
       "      <td>45.566667</td>\n",
       "      <td>17.166667</td>\n",
       "      <td>55.20</td>\n",
       "      <td>7.026667</td>\n",
       "      <td>84.256667</td>\n",
       "      <td>17.200000</td>\n",
       "      <td>41.626667</td>\n",
       "      <td>18.2</td>\n",
       "      <td>48.900000</td>\n",
       "      <td>17.033333</td>\n",
       "      <td>45.53</td>\n",
       "      <td>6.60</td>\n",
       "      <td>733.5</td>\n",
       "      <td>92.0</td>\n",
       "      <td>7.000000</td>\n",
       "      <td>63.000000</td>\n",
       "      <td>5.3</td>\n",
       "      <td>13.275433</td>\n",
       "      <td>13.275433</td>\n",
       "    </tr>\n",
       "    <tr>\n",
       "      <th>1</th>\n",
       "      <td>2016-01-11 17:10:00</td>\n",
       "      <td>60</td>\n",
       "      <td>30</td>\n",
       "      <td>19.89</td>\n",
       "      <td>46.693333</td>\n",
       "      <td>19.2</td>\n",
       "      <td>44.722500</td>\n",
       "      <td>19.79</td>\n",
       "      <td>44.790000</td>\n",
       "      <td>19.000000</td>\n",
       "      <td>45.992500</td>\n",
       "      <td>17.166667</td>\n",
       "      <td>55.20</td>\n",
       "      <td>6.833333</td>\n",
       "      <td>84.063333</td>\n",
       "      <td>17.200000</td>\n",
       "      <td>41.560000</td>\n",
       "      <td>18.2</td>\n",
       "      <td>48.863333</td>\n",
       "      <td>17.066667</td>\n",
       "      <td>45.56</td>\n",
       "      <td>6.48</td>\n",
       "      <td>733.6</td>\n",
       "      <td>92.0</td>\n",
       "      <td>6.666667</td>\n",
       "      <td>59.166667</td>\n",
       "      <td>5.2</td>\n",
       "      <td>18.606195</td>\n",
       "      <td>18.606195</td>\n",
       "    </tr>\n",
       "    <tr>\n",
       "      <th>2</th>\n",
       "      <td>2016-01-11 17:20:00</td>\n",
       "      <td>50</td>\n",
       "      <td>30</td>\n",
       "      <td>19.89</td>\n",
       "      <td>46.300000</td>\n",
       "      <td>19.2</td>\n",
       "      <td>44.626667</td>\n",
       "      <td>19.79</td>\n",
       "      <td>44.933333</td>\n",
       "      <td>18.926667</td>\n",
       "      <td>45.890000</td>\n",
       "      <td>17.166667</td>\n",
       "      <td>55.09</td>\n",
       "      <td>6.560000</td>\n",
       "      <td>83.156667</td>\n",
       "      <td>17.200000</td>\n",
       "      <td>41.433333</td>\n",
       "      <td>18.2</td>\n",
       "      <td>48.730000</td>\n",
       "      <td>17.000000</td>\n",
       "      <td>45.50</td>\n",
       "      <td>6.37</td>\n",
       "      <td>733.7</td>\n",
       "      <td>92.0</td>\n",
       "      <td>6.333333</td>\n",
       "      <td>55.333333</td>\n",
       "      <td>5.1</td>\n",
       "      <td>28.642668</td>\n",
       "      <td>28.642668</td>\n",
       "    </tr>\n",
       "    <tr>\n",
       "      <th>3</th>\n",
       "      <td>2016-01-11 17:30:00</td>\n",
       "      <td>50</td>\n",
       "      <td>40</td>\n",
       "      <td>19.89</td>\n",
       "      <td>46.066667</td>\n",
       "      <td>19.2</td>\n",
       "      <td>44.590000</td>\n",
       "      <td>19.79</td>\n",
       "      <td>45.000000</td>\n",
       "      <td>18.890000</td>\n",
       "      <td>45.723333</td>\n",
       "      <td>17.166667</td>\n",
       "      <td>55.09</td>\n",
       "      <td>6.433333</td>\n",
       "      <td>83.423333</td>\n",
       "      <td>17.133333</td>\n",
       "      <td>41.290000</td>\n",
       "      <td>18.1</td>\n",
       "      <td>48.590000</td>\n",
       "      <td>17.000000</td>\n",
       "      <td>45.40</td>\n",
       "      <td>6.25</td>\n",
       "      <td>733.8</td>\n",
       "      <td>92.0</td>\n",
       "      <td>6.000000</td>\n",
       "      <td>51.500000</td>\n",
       "      <td>5.0</td>\n",
       "      <td>45.410390</td>\n",
       "      <td>45.410390</td>\n",
       "    </tr>\n",
       "    <tr>\n",
       "      <th>4</th>\n",
       "      <td>2016-01-11 17:40:00</td>\n",
       "      <td>60</td>\n",
       "      <td>40</td>\n",
       "      <td>19.89</td>\n",
       "      <td>46.333333</td>\n",
       "      <td>19.2</td>\n",
       "      <td>44.530000</td>\n",
       "      <td>19.79</td>\n",
       "      <td>45.000000</td>\n",
       "      <td>18.890000</td>\n",
       "      <td>45.530000</td>\n",
       "      <td>17.200000</td>\n",
       "      <td>55.09</td>\n",
       "      <td>6.366667</td>\n",
       "      <td>84.893333</td>\n",
       "      <td>17.200000</td>\n",
       "      <td>41.230000</td>\n",
       "      <td>18.1</td>\n",
       "      <td>48.590000</td>\n",
       "      <td>17.000000</td>\n",
       "      <td>45.40</td>\n",
       "      <td>6.13</td>\n",
       "      <td>733.9</td>\n",
       "      <td>92.0</td>\n",
       "      <td>5.666667</td>\n",
       "      <td>47.666667</td>\n",
       "      <td>4.9</td>\n",
       "      <td>10.084097</td>\n",
       "      <td>10.084097</td>\n",
       "    </tr>\n",
       "  </tbody>\n",
       "</table>\n",
       "</div>"
      ],
      "text/plain": [
       "                 date  Appliances  lights     T1       RH_1    T2       RH_2  \\\n",
       "0 2016-01-11 17:00:00          60      30  19.89  47.596667  19.2  44.790000   \n",
       "1 2016-01-11 17:10:00          60      30  19.89  46.693333  19.2  44.722500   \n",
       "2 2016-01-11 17:20:00          50      30  19.89  46.300000  19.2  44.626667   \n",
       "3 2016-01-11 17:30:00          50      40  19.89  46.066667  19.2  44.590000   \n",
       "4 2016-01-11 17:40:00          60      40  19.89  46.333333  19.2  44.530000   \n",
       "\n",
       "      T3       RH_3         T4       RH_4         T5   RH_5        T6  \\\n",
       "0  19.79  44.730000  19.000000  45.566667  17.166667  55.20  7.026667   \n",
       "1  19.79  44.790000  19.000000  45.992500  17.166667  55.20  6.833333   \n",
       "2  19.79  44.933333  18.926667  45.890000  17.166667  55.09  6.560000   \n",
       "3  19.79  45.000000  18.890000  45.723333  17.166667  55.09  6.433333   \n",
       "4  19.79  45.000000  18.890000  45.530000  17.200000  55.09  6.366667   \n",
       "\n",
       "        RH_6         T7       RH_7    T8       RH_8         T9   RH_9  T_out  \\\n",
       "0  84.256667  17.200000  41.626667  18.2  48.900000  17.033333  45.53   6.60   \n",
       "1  84.063333  17.200000  41.560000  18.2  48.863333  17.066667  45.56   6.48   \n",
       "2  83.156667  17.200000  41.433333  18.2  48.730000  17.000000  45.50   6.37   \n",
       "3  83.423333  17.133333  41.290000  18.1  48.590000  17.000000  45.40   6.25   \n",
       "4  84.893333  17.200000  41.230000  18.1  48.590000  17.000000  45.40   6.13   \n",
       "\n",
       "   Press_mm_hg  RH_out  Windspeed  Visibility  Tdewpoint        rv1        rv2  \n",
       "0        733.5    92.0   7.000000   63.000000        5.3  13.275433  13.275433  \n",
       "1        733.6    92.0   6.666667   59.166667        5.2  18.606195  18.606195  \n",
       "2        733.7    92.0   6.333333   55.333333        5.1  28.642668  28.642668  \n",
       "3        733.8    92.0   6.000000   51.500000        5.0  45.410390  45.410390  \n",
       "4        733.9    92.0   5.666667   47.666667        4.9  10.084097  10.084097  "
      ]
     },
     "execution_count": 3,
     "metadata": {},
     "output_type": "execute_result"
    }
   ],
   "source": [
    "df.head()"
   ]
  },
  {
   "cell_type": "code",
   "execution_count": 28,
   "id": "b7678606",
   "metadata": {},
   "outputs": [
    {
     "data": {
      "text/plain": [
       "Index(['date', 'Appliances', 'lights', 'T1', 'RH_1', 'T2', 'RH_2', 'T3',\n",
       "       'RH_3', 'T4', 'RH_4', 'T5', 'RH_5', 'T6', 'RH_6', 'T7', 'RH_7', 'T8',\n",
       "       'RH_8', 'T9', 'RH_9', 'T_out', 'Press_mm_hg', 'RH_out', 'Windspeed',\n",
       "       'Visibility', 'Tdewpoint', 'rv1', 'rv2'],\n",
       "      dtype='object')"
      ]
     },
     "execution_count": 28,
     "metadata": {},
     "output_type": "execute_result"
    }
   ],
   "source": [
    "# view the feature names\n",
    "columns = df.columns\n",
    "columns"
   ]
  },
  {
   "cell_type": "code",
   "execution_count": 4,
   "id": "0e009d80",
   "metadata": {},
   "outputs": [
    {
     "data": {
      "text/plain": [
       "(19735, 29)"
      ]
     },
     "execution_count": 4,
     "metadata": {},
     "output_type": "execute_result"
    }
   ],
   "source": [
    "# view the size of the dataframe\n",
    "df.shape"
   ]
  },
  {
   "cell_type": "markdown",
   "id": "47ebcfc9",
   "metadata": {},
   "source": [
    "## Check for Missing Data"
   ]
  },
  {
   "cell_type": "code",
   "execution_count": 13,
   "id": "ce406676",
   "metadata": {},
   "outputs": [
    {
     "data": {
      "text/plain": [
       "date           0\n",
       "Appliances     0\n",
       "lights         0\n",
       "T1             0\n",
       "RH_1           0\n",
       "T2             0\n",
       "RH_2           0\n",
       "T3             0\n",
       "RH_3           0\n",
       "T4             0\n",
       "RH_4           0\n",
       "T5             0\n",
       "RH_5           0\n",
       "T6             0\n",
       "RH_6           0\n",
       "T7             0\n",
       "RH_7           0\n",
       "T8             0\n",
       "RH_8           0\n",
       "T9             0\n",
       "RH_9           0\n",
       "T_out          0\n",
       "Press_mm_hg    0\n",
       "RH_out         0\n",
       "Windspeed      0\n",
       "Visibility     0\n",
       "Tdewpoint      0\n",
       "rv1            0\n",
       "rv2            0\n",
       "dtype: int64"
      ]
     },
     "execution_count": 13,
     "metadata": {},
     "output_type": "execute_result"
    }
   ],
   "source": [
    "df.isna().sum()"
   ]
  },
  {
   "cell_type": "markdown",
   "id": "c58d6178",
   "metadata": {},
   "source": [
    "It can be seen that there is no need to impute for missing data since the dataset has no missing data."
   ]
  },
  {
   "cell_type": "markdown",
   "id": "31d75afc",
   "metadata": {},
   "source": [
    "# 2. Analyse and visualise the data"
   ]
  },
  {
   "cell_type": "markdown",
   "id": "7e0eb71b-6d57-4484-8fef-b4b0d751b196",
   "metadata": {},
   "source": [
    "## Exploratory Data Analysis"
   ]
  },
  {
   "cell_type": "markdown",
   "id": "94fe7a68-2a89-42a0-9506-7eb48dc2854c",
   "metadata": {},
   "source": [
    "### Data Dictionary"
   ]
  },
  {
   "cell_type": "markdown",
   "id": "7838e593-b651-4b92-a762-976ba8639877",
   "metadata": {},
   "source": [
    "| Data variables                        | Feature Name in Table | Units           |\n",
    "|----------------------------------------|-----------------------|-----------------|\n",
    "| Datetime stamp | dd-mm-yy hh:ss | date                   |\n",
    "| Appliances energy consumption          | appliances            | Wh              |\n",
    "| Light energy consumption               | light                 | Wh              |\n",
    "| T1, Temperature in kitchen area        | T1                    | °C              |\n",
    "| RH1, Humidity in kitchen area          | RH_1                  | %               |\n",
    "| T2, Temperature in living room area    | T2                    | °C              |\n",
    "| RH2, Humidity in living room area      | RH_2                  | %               |\n",
    "| T3, Temperature in laundry room area   | T3                    | °C              |\n",
    "| RH3, Humidity in laundry room area     | RH_3                  | %               |\n",
    "| T4, Temperature in office room         | T4                    | °C              |\n",
    "| RH4, Humidity in office room           | RH_4                  | %               |\n",
    "| T5, Temperature in bathroom            | T5                    | °C              |\n",
    "| RH5, Humidity in bathroom              | RH_5                  | %               |\n",
    "| T6, Temperature outside the building (north side) | T6      | °C              |\n",
    "| RH6, Humidity outside the building (north side)   | RH_6    | %               |\n",
    "| T7, Temperature in ironing room        | T7                    | °C              |\n",
    "| RH7, Humidity in ironing room          | RH_7                  | %               |\n",
    "| T8, Temperature in teenager room 2     | T8                    | °C              |\n",
    "| RH8, Humidity in teenager room 2       | RH_8                  | %               |\n",
    "| T9, Temperature in parents room        | T9                    | °C              |\n",
    "| RH9, Humidity in parents room          | RH_9                  | %               |\n",
    "| To, Temperature outside (from Chièvres weather station) | T_out | °C              |\n",
    "| Pressure (from Chièvres weather station) | Press_mm_hg         | mm Hg           |\n",
    "| RHo, Humidity outside (from Chièvres weather station) | RH_out   | %           |\n",
    "| Windspeed (from Chièvres weather station) | Windspeed           | m/s             |\n",
    "| Visibility (from Chièvres weather station) | Visbility           | km              |\n",
    "| Tdewpoint (from Chièvres weather station) | Tdewpoint           | °C              |\n",
    "| Random Variable 1 (RV 1)               | rv1                   | Non-dimensional |\n",
    "| Random Variable 2 (RV 2)               | rv2                   | Non-dimensional |\n"
   ]
  },
  {
   "cell_type": "markdown",
   "id": "743e3d32-a0f5-409b-99df-25cc20153ab1",
   "metadata": {},
   "source": [
    "### Identify the data types of each variable"
   ]
  },
  {
   "cell_type": "markdown",
   "id": "b5b494be-76ed-406f-8f00-684f86ee3696",
   "metadata": {},
   "source": [
    "It can be observed that in the dictionary and in the data types that the values of each variable is continuous. "
   ]
  },
  {
   "cell_type": "code",
   "execution_count": 5,
   "id": "2d286790",
   "metadata": {
    "scrolled": true
   },
   "outputs": [
    {
     "data": {
      "text/plain": [
       "date           datetime64[ns]\n",
       "Appliances              int64\n",
       "lights                  int64\n",
       "T1                    float64\n",
       "RH_1                  float64\n",
       "T2                    float64\n",
       "RH_2                  float64\n",
       "T3                    float64\n",
       "RH_3                  float64\n",
       "T4                    float64\n",
       "RH_4                  float64\n",
       "T5                    float64\n",
       "RH_5                  float64\n",
       "T6                    float64\n",
       "RH_6                  float64\n",
       "T7                    float64\n",
       "RH_7                  float64\n",
       "T8                    float64\n",
       "RH_8                  float64\n",
       "T9                    float64\n",
       "RH_9                  float64\n",
       "T_out                 float64\n",
       "Press_mm_hg           float64\n",
       "RH_out                float64\n",
       "Windspeed             float64\n",
       "Visibility            float64\n",
       "Tdewpoint             float64\n",
       "rv1                   float64\n",
       "rv2                   float64\n",
       "dtype: object"
      ]
     },
     "execution_count": 5,
     "metadata": {},
     "output_type": "execute_result"
    }
   ],
   "source": [
    "df.dtypes"
   ]
  },
  {
   "cell_type": "markdown",
   "id": "6ef20033-a817-4400-84c3-192e22dcc42d",
   "metadata": {},
   "source": [
    "### Visualize Distributions"
   ]
  },
  {
   "cell_type": "code",
   "execution_count": null,
   "id": "dbf54263-7cef-4c2e-ae2d-4154d360ec52",
   "metadata": {},
   "outputs": [],
   "source": []
  },
  {
   "cell_type": "markdown",
   "id": "1b410ea5-7cab-4dc4-88dc-112bf3a27d5d",
   "metadata": {},
   "source": [
    "### Visualize Correlations"
   ]
  },
  {
   "cell_type": "code",
   "execution_count": null,
   "id": "b1ca7e33-cba7-4aaa-8aa3-a38705f63b83",
   "metadata": {},
   "outputs": [],
   "source": []
  },
  {
   "cell_type": "code",
   "execution_count": null,
   "id": "b37eb84e-5c5a-44bf-a004-e241aedd606b",
   "metadata": {},
   "outputs": [],
   "source": []
  },
  {
   "cell_type": "markdown",
   "id": "49d0bf2a",
   "metadata": {},
   "source": [
    "# 3. Pre-process the data"
   ]
  },
  {
   "cell_type": "code",
   "execution_count": null,
   "id": "7241f20a",
   "metadata": {},
   "outputs": [],
   "source": []
  },
  {
   "cell_type": "markdown",
   "id": "333cefa8",
   "metadata": {},
   "source": [
    "# 4. Implement, train and test prediction models"
   ]
  },
  {
   "cell_type": "code",
   "execution_count": null,
   "id": "c292820d",
   "metadata": {},
   "outputs": [],
   "source": []
  },
  {
   "cell_type": "markdown",
   "id": "ba7ea3a2",
   "metadata": {},
   "source": [
    "# 5. Compare the results from all candidate models, choose the best model, justify your choice and discuss the results"
   ]
  },
  {
   "cell_type": "code",
   "execution_count": null,
   "id": "f47f0754",
   "metadata": {},
   "outputs": [],
   "source": []
  },
  {
   "cell_type": "markdown",
   "id": "8d9ff3f9",
   "metadata": {},
   "source": [
    "# 6. Reflect on what you have learned by completing this assignment and how to improve the models"
   ]
  },
  {
   "cell_type": "code",
   "execution_count": null,
   "id": "99cf2087",
   "metadata": {},
   "outputs": [],
   "source": []
  },
  {
   "cell_type": "markdown",
   "id": "9d3a91b4",
   "metadata": {},
   "source": [
    "# 7. References"
   ]
  },
  {
   "cell_type": "markdown",
   "id": "806dfc7f",
   "metadata": {},
   "source": []
  }
 ],
 "metadata": {
  "kernelspec": {
   "display_name": "Python 3 (ipykernel)",
   "language": "python",
   "name": "python3"
  },
  "language_info": {
   "codemirror_mode": {
    "name": "ipython",
    "version": 3
   },
   "file_extension": ".py",
   "mimetype": "text/x-python",
   "name": "python",
   "nbconvert_exporter": "python",
   "pygments_lexer": "ipython3",
   "version": "3.11.7"
  }
 },
 "nbformat": 4,
 "nbformat_minor": 5
}
